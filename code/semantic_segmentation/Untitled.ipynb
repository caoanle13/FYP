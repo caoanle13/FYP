{
 "cells": [
  {
   "cell_type": "code",
   "execution_count": 1,
   "metadata": {},
   "outputs": [],
   "source": [
    "import os\n",
    "import sys\n",
    "from PIL import Image\n",
    "import numpy as np\n",
    "import tensorflow as tf\n",
    "import cv2\n",
    "\n",
    "# Dict containing train ID to RGB colour mappings\n",
    "from libs.constants import CITYSCAPES_LABEL_COLORS\n",
    "\n",
    "# Root Directory of the model we downloaded\n",
    "MODEL_NAME = 'pspnet'\n",
    "\n",
    "# Full path to frozen graph for the model.\n",
    "PATH_TO_FROZEN_GRAPH = MODEL_NAME + '/frozen_inference_graph_opt.pb'\n",
    "\n",
    "# We are using a model trained on Cityscapes\n",
    "# so the output is 19 classes\n",
    "\n",
    "NUM_CLASSES = 19\n",
    "\n",
    "# Output dimensions\n",
    "OUTPUT_SIZE=(1025,2049,3)"
   ]
  },
  {
   "cell_type": "code",
   "execution_count": 2,
   "metadata": {
    "collapsed": true
   },
   "outputs": [],
   "source": [
    "# Loading a frozen Tensorflow model into memory\n",
    "segmentation_graph = tf.Graph()\n",
    "with segmentation_graph.as_default():\n",
    "    segmentaion_graph_def = tf.GraphDef()\n",
    "    with tf.gfile.GFile(PATH_TO_FROZEN_GRAPH, 'rb') as fid:\n",
    "        serialized_graph = fid.read()\n",
    "        segmentaion_graph_def.ParseFromString(serialized_graph)\n",
    "        tf.import_graph_def(segmentaion_graph_def, name='')"
   ]
  },
  {
   "cell_type": "code",
   "execution_count": 3,
   "metadata": {
    "collapsed": true
   },
   "outputs": [],
   "source": [
    "def decode_train_ids(image):\n",
    "    \"\"\" Helper function to map labels \"\"\"\n",
    "    image = np.squeeze(image, axis=0) # predictions will have the shape [1,1024,2048,1]\n",
    "    rgb_image = np.zeros(OUTPUT_SIZE)\n",
    "    for train_id in range(NUM_CLASSES):\n",
    "        rgb_image[np.where((image==train_id).all(axis=2))] = CITYSCAPES_LABEL_COLORS[train_id]\n",
    "    return rgb_image\n",
    "\n",
    "def load_image_into_numpy_array(image):\n",
    "    \"\"\" Helper function to read image \"\"\"\n",
    "    image = image.resize((2048, 1024))\n",
    "    (im_width, im_height) = image.size\n",
    "    return np.array(image.getdata()).reshape(\n",
    "        (im_height, im_width, 3)).astype(np.uint8)\n",
    "\n",
    "\n",
    "def run_inference_for_single_image(image, graph):\n",
    "    \"\"\" Function to run inference on a single input image \"\"\"\n",
    "    with graph.as_default():\n",
    "        with tf.Session() as sess:\n",
    "            # Grab input and output tensors\n",
    "            image_tensor = tf.get_default_graph().get_tensor_by_name('inputs:0')\n",
    "            output_tensor = tf.get_default_graph().get_tensor_by_name('predictions:0')\n",
    "            # Run inference\n",
    "            predictions = sess.run(output_tensor,\n",
    "                                feed_dict={image_tensor: image})\n",
    "    return predictions\n",
    "\n",
    "\n",
    "def pil_to_cv(image):\n",
    "    \"\"\" Function to convert a PIL image into a cv2 image\"\"\"\n",
    "    cv2_image = cv2.cvtColor(np.array(image), cv2.COLOR_RGB2BGR)\n",
    "    return cv2_image\n",
    "\n"
   ]
  },
  {
   "cell_type": "code",
   "execution_count": 18,
   "metadata": {
    "scrolled": true
   },
   "outputs": [
    {
     "name": "stdout",
     "output_type": "stream",
     "text": [
      "(489, 350)\n"
     ]
    }
   ],
   "source": [
    "image = Image.open(\"tubingen.jpg\")\n",
    "\n",
    "input_size = image.size\n",
    "print(image.size)\n",
    "\n",
    "image_np = load_image_into_numpy_array(image)\n",
    "\n",
    "cv_image = pil_to_cv(image)\n",
    "\n",
    "\n"
   ]
  },
  {
   "cell_type": "code",
   "execution_count": 7,
   "metadata": {},
   "outputs": [],
   "source": [
    "segmentation_mask = run_inference_for_single_image(image_np, segmentation_graph)\n",
    "rgb_segmentation_mask = decode_train_ids(segmentation_mask)"
   ]
  },
  {
   "cell_type": "code",
   "execution_count": 58,
   "metadata": {
    "collapsed": true
   },
   "outputs": [],
   "source": [
    "def produce_masks(image):\n",
    "    \"\"\" Helper function to produce separate masks from segmentation mask with IDs\"\"\"\n",
    "    masks = []\n",
    "    image = np.squeeze(image, axis=0)\n",
    "    for i in range(NUM_CLASSES):\n",
    "        masks.append(image == i)\n",
    "    return masks\n",
    "\n",
    "def array_to_pil(arr):\n",
    "    \"\"\" Helper function to convert numpy arrays into PIL images \"\"\"\n",
    "    image = Image.fromarray(arr.astype('uint8'))\n",
    "    return image\n",
    "\n",
    "def boolean_to_img(data):\n",
    "    size = data.shape[::-1]\n",
    "    databytes = np.packbits(data, axis=1)\n",
    "    return Image.frombytes(mode='1', size=size, data=databytes)"
   ]
  },
  {
   "cell_type": "code",
   "execution_count": 59,
   "metadata": {},
   "outputs": [],
   "source": [
    "individual_masks = produce_masks(segmentation_mask)\n",
    "first = individual_masks[2][:,:,0]\n",
    "\n",
    "p = boolean_to_img(first)\n",
    "p.show()"
   ]
  },
  {
   "cell_type": "code",
   "execution_count": 19,
   "metadata": {},
   "outputs": [],
   "source": [
    "output = Image.fromarray(rgb_segmentation_mask.astype('uint8'))\n",
    "output = output.resize(input_size)"
   ]
  },
  {
   "cell_type": "code",
   "execution_count": 20,
   "metadata": {},
   "outputs": [],
   "source": [
    "from PIL.ImageFilter import MedianFilter\n",
    "output = output.filter(MedianFilter(size=9))"
   ]
  },
  {
   "cell_type": "code",
   "execution_count": 21,
   "metadata": {
    "collapsed": true
   },
   "outputs": [],
   "source": [
    "output.show()\n",
    "image.show()"
   ]
  },
  {
   "cell_type": "code",
   "execution_count": null,
   "metadata": {},
   "outputs": [],
   "source": [
    "background = image.convert(\"RGBA\")\n",
    "overlay = output.convert(\"RGBA\")\n",
    "\n",
    "new_image = Image.blend(background, overlay, 0.5)\n",
    "new_image.show()"
   ]
  },
  {
   "cell_type": "code",
   "execution_count": null,
   "metadata": {},
   "outputs": [],
   "source": [
    "rgb_segmentation_mask = decode_train_ids(segmentation_mask)\n"
   ]
  },
  {
   "cell_type": "code",
   "execution_count": null,
   "metadata": {
    "collapsed": true
   },
   "outputs": [],
   "source": []
  }
 ],
 "metadata": {
  "kernelspec": {
   "display_name": "Python 3",
   "language": "python",
   "name": "python3"
  },
  "language_info": {
   "codemirror_mode": {
    "name": "ipython",
    "version": 3
   },
   "file_extension": ".py",
   "mimetype": "text/x-python",
   "name": "python",
   "nbconvert_exporter": "python",
   "pygments_lexer": "ipython3",
   "version": "3.6.1"
  }
 },
 "nbformat": 4,
 "nbformat_minor": 2
}
